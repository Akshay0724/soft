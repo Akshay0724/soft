{
 "cells": [
  {
   "cell_type": "code",
   "execution_count": 20,
   "metadata": {
    "collapsed": false
   },
   "outputs": [
    {
     "name": "stdout",
     "output_type": "stream",
     "text": [
      "defining the decorator\n",
      "doing decoration, 'abc'\n"
     ]
    }
   ],
   "source": [
    "import functools\n",
    "def replacing_decorator_with_args(arg):\n",
    "  print(\"defining the decorator\")\n",
    "  def _decorator(function):\n",
    "      # in this inner function, arg is available too\n",
    "      print(\"doing decoration, %r\" % arg)\n",
    "      def _wrapper(*args, **kwargs):\n",
    "          print(\"inside wrapper, %r %r\" % (args, kwargs))\n",
    "          return function(*args, **kwargs)\n",
    "      return functools.update_wrapper(_wrapper,function)\n",
    "  return _decorator\n",
    "@replacing_decorator_with_args(\"abc\")\n",
    "def function(*args, **kwargs):\n",
    "    \"\"\"ajwouhxqhwecln\"\"\"\n",
    "    print(\"inside function, %r %r\" % (args, kwargs))"
   ]
  },
  {
   "cell_type": "code",
   "execution_count": 21,
   "metadata": {
    "collapsed": false
   },
   "outputs": [
    {
     "name": "stdout",
     "output_type": "stream",
     "text": [
      "inside wrapper, (1, 2, 3, 4, 5, 6, 7, 8, 9) {}\n",
      "inside function, (1, 2, 3, 4, 5, 6, 7, 8, 9) {}\n"
     ]
    }
   ],
   "source": [
    "function(1,2,3,4,5,6,7,8,9)"
   ]
  },
  {
   "cell_type": "code",
   "execution_count": 22,
   "metadata": {
    "collapsed": false
   },
   "outputs": [
    {
     "data": {
      "text/plain": [
       "['__call__',\n",
       " '__class__',\n",
       " '__closure__',\n",
       " '__code__',\n",
       " '__defaults__',\n",
       " '__delattr__',\n",
       " '__dict__',\n",
       " '__doc__',\n",
       " '__format__',\n",
       " '__get__',\n",
       " '__getattribute__',\n",
       " '__globals__',\n",
       " '__hash__',\n",
       " '__init__',\n",
       " '__module__',\n",
       " '__name__',\n",
       " '__new__',\n",
       " '__reduce__',\n",
       " '__reduce_ex__',\n",
       " '__repr__',\n",
       " '__setattr__',\n",
       " '__sizeof__',\n",
       " '__str__',\n",
       " '__subclasshook__',\n",
       " 'func_closure',\n",
       " 'func_code',\n",
       " 'func_defaults',\n",
       " 'func_dict',\n",
       " 'func_doc',\n",
       " 'func_globals',\n",
       " 'func_name']"
      ]
     },
     "execution_count": 22,
     "metadata": {},
     "output_type": "execute_result"
    }
   ],
   "source": [
    "dir(function)"
   ]
  },
  {
   "cell_type": "code",
   "execution_count": 186,
   "metadata": {
    "collapsed": false
   },
   "outputs": [],
   "source": [
    "a=[]"
   ]
  },
  {
   "cell_type": "code",
   "execution_count": 263,
   "metadata": {
    "collapsed": false
   },
   "outputs": [],
   "source": [
    "import inspect,warnings\n",
    "class deprecated(object):\n",
    "\n",
    "    # Adapted from http://wiki.python.org/moin/PythonDecoratorLibrary,\n",
    "    # but with many changes.\n",
    "\n",
    "    def __init__(self, extra=''):\n",
    "        \"\"\"\n",
    "        Parameters\n",
    "        ----------\n",
    "        extra : string\n",
    "          to be added to the deprecation messages\n",
    "\n",
    "        \"\"\"\n",
    "        self.extra = extra\n",
    "\n",
    "    def __call__(self, obj):\n",
    "        if isinstance(obj, type):\n",
    "            return self._decorate_class(obj)\n",
    "        elif inspect.getmembers(obj.__get__,lambda o: isinstance(o,property)) != []:\n",
    "            return self._decorate_property(obj)\n",
    "        else:\n",
    "            a.append(inspect.getmembers(obj))\n",
    "            \n",
    "            return self._decorate_fun(obj)\n",
    "\n",
    "    def _decorate_property(self,prop):\n",
    "        print \"Property deprecated\"\n",
    "        #print dir(prop)\n",
    "        def wrapped(*args, **kwargs):\n",
    "            print \"prop\"\n",
    "            return prop.fget(*args, **kwargs)\n",
    "        return wrapped\n",
    "    \n",
    "    def _decorate_class(self, cls):\n",
    "        msg = \"Class %s is deprecated\" % cls.__name__\n",
    "        if self.extra:\n",
    "            msg += \"; %s\" % self.extra\n",
    "\n",
    "        # FIXME: we should probably reset __new__ for full generality\n",
    "        init = cls.__init__\n",
    "\n",
    "        def wrapped(*args, **kwargs):\n",
    "            warnings.warn(msg, category=DeprecationWarning)\n",
    "            return init(*args, **kwargs)\n",
    "        cls.__init__ = wrapped\n",
    "\n",
    "        wrapped.__name__ = '__init__'\n",
    "        wrapped.__doc__ = self._update_doc(init.__doc__)\n",
    "        wrapped.deprecated_original = init\n",
    "\n",
    "        return cls\n",
    "\n",
    "    def _decorate_fun(self, fun):\n",
    "        \"\"\"Decorate function fun\"\"\"\n",
    "\n",
    "        msg = \"Function %s is deprecated\" % fun.__name__\n",
    "        if self.extra:\n",
    "            msg += \"; %s\" % self.extra\n",
    "\n",
    "        def wrapped(*args, **kwargs):\n",
    "            if inspect.ismethod(fun):\n",
    "                if inspect.getmembers(args[0].__class__, \n",
    "                                  lambda o: isinstance(o, property)) != []:\n",
    "                     warnings.warn(\"property deprecated\", category=DeprecationWarning)\n",
    "            else:\n",
    "                warnings.warn(msg, category=DeprecationWarning)\n",
    "            return fun(*args, **kwargs)\n",
    "\n",
    "        wrapped.__name__ = fun.__name__\n",
    "        wrapped.__dict__ = fun.__dict__\n",
    "        wrapped.__doc__ = self._update_doc(fun.__doc__)\n",
    "\n",
    "        return wrapped\n",
    "\n",
    "    def _update_doc(self, olddoc):\n",
    "        newdoc = \"DEPRECATED\"\n",
    "        if self.extra:\n",
    "            newdoc = \"%s: %s\" % (newdoc, self.extra)\n",
    "        if olddoc:\n",
    "            newdoc = \"%s\\n\\n%s\" % (newdoc, olddoc)\n",
    "        return newdoc\n",
    " "
   ]
  },
  {
   "cell_type": "code",
   "execution_count": 260,
   "metadata": {
    "collapsed": false,
    "scrolled": true
   },
   "outputs": [
    {
     "name": "stdout",
     "output_type": "stream",
     "text": [
      "property\n",
      "Property deprecated\n"
     ]
    }
   ],
   "source": [
    "@property\n",
    "@deprecated(\"dep\")\n",
    "def func_2():\n",
    "    return \"inside func\"\n",
    "\n",
    "\n",
    "@deprecated(\"dep\")\n",
    "@property\n",
    "def func():\n",
    "    return \"inside func\"\n",
    "\n",
    "@deprecated(\"dep\")\n",
    "def func_1():\n",
    "    print \"inside func_1\"   "
   ]
  },
  {
   "cell_type": "code",
   "execution_count": 261,
   "metadata": {
    "collapsed": false
   },
   "outputs": [
    {
     "name": "stdout",
     "output_type": "stream",
     "text": [
      "property\n",
      "Property deprecated\n"
     ]
    }
   ],
   "source": [
    "\n",
    "class C(object):\n",
    "    @deprecated(\"dep\")\n",
    "    def getx(self): \n",
    "        print \"inside get\"\n",
    "        return self.__x    \n",
    "    @deprecated(\"dep\")\n",
    "    def setx(self, value): \n",
    "        print \"inside set\"\n",
    "        self.__x = value\n",
    "    @deprecated(\"dep\")    \n",
    "    def delx(self):  \n",
    "        print \"inside del\"\n",
    "        del self.__x\n",
    "        \n",
    "    @deprecated(\"dep\")\n",
    "    @property\n",
    "    def func_1(self):\n",
    "        return \"hello\"\n",
    "    \n",
    "    @property\n",
    "    @deprecated(\"dep\")\n",
    "    def func_2(self):\n",
    "        return \"hello\"\n",
    "    \n",
    "    x = property(getx, setx, delx, \"I'm the 'x' property.\")"
   ]
  },
  {
   "cell_type": "code",
   "execution_count": 262,
   "metadata": {
    "collapsed": false
   },
   "outputs": [
    {
     "name": "stdout",
     "output_type": "stream",
     "text": [
      "prop\n"
     ]
    },
    {
     "data": {
      "text/plain": [
       "'hello'"
      ]
     },
     "execution_count": 262,
     "metadata": {},
     "output_type": "execute_result"
    }
   ],
   "source": [
    "C().func()"
   ]
  },
  {
   "cell_type": "code",
   "execution_count": 239,
   "metadata": {
    "collapsed": false
   },
   "outputs": [
    {
     "name": "stdout",
     "output_type": "stream",
     "text": [
      "(<__main__.C object at 0x7faf1815dbd0>, 2)\n",
      "inside set\n",
      "0.000393867492676\n",
      "(<__main__.C object at 0x7faf1815d8d0>, 2)\n",
      "inside set\n",
      "0.000205039978027\n"
     ]
    },
    {
     "name": "stderr",
     "output_type": "stream",
     "text": [
      "/home/me/miniconda2/lib/python2.7/site-packages/ipykernel/__main__.py:68: DeprecationWarning: property deprecated\n"
     ]
    }
   ],
   "source": [
    "import time\n",
    "st=time.time()\n",
    "C().x=2\n",
    "print time.time()-st\n",
    "st=time.time()\n",
    "C().setx(2)\n",
    "print time.time()-st"
   ]
  },
  {
   "cell_type": "code",
   "execution_count": 240,
   "metadata": {
    "collapsed": false
   },
   "outputs": [
    {
     "name": "stdout",
     "output_type": "stream",
     "text": [
      "(<__main__.C object at 0x7faf181d5450>, 1)\n",
      "inside set\n"
     ]
    },
    {
     "name": "stderr",
     "output_type": "stream",
     "text": [
      "/home/me/miniconda2/lib/python2.7/site-packages/ipykernel/__main__.py:68: DeprecationWarning: property deprecated\n"
     ]
    }
   ],
   "source": [
    "C().x=1"
   ]
  },
  {
   "cell_type": "code",
   "execution_count": 69,
   "metadata": {
    "collapsed": false
   },
   "outputs": [
    {
     "name": "stdout",
     "output_type": "stream",
     "text": [
      "inside get\n",
      "['__abs__', '__add__', '__and__', '__class__', '__cmp__', '__coerce__', '__delattr__', '__div__', '__divmod__', '__doc__', '__float__', '__floordiv__', '__format__', '__getattribute__', '__getnewargs__', '__hash__', '__hex__', '__index__', '__init__', '__int__', '__invert__', '__long__', '__lshift__', '__mod__', '__mul__', '__neg__', '__new__', '__nonzero__', '__oct__', '__or__', '__pos__', '__pow__', '__radd__', '__rand__', '__rdiv__', '__rdivmod__', '__reduce__', '__reduce_ex__', '__repr__', '__rfloordiv__', '__rlshift__', '__rmod__', '__rmul__', '__ror__', '__rpow__', '__rrshift__', '__rshift__', '__rsub__', '__rtruediv__', '__rxor__', '__setattr__', '__sizeof__', '__str__', '__sub__', '__subclasshook__', '__truediv__', '__trunc__', '__xor__', 'bit_length', 'conjugate', 'denominator', 'imag', 'numerator', 'real'] ['__call__', '__class__', '__closure__', '__code__', '__defaults__', '__delattr__', '__dict__', '__doc__', '__format__', '__get__', '__getattribute__', '__globals__', '__hash__', '__init__', '__module__', '__name__', '__new__', '__reduce__', '__reduce_ex__', '__repr__', '__setattr__', '__sizeof__', '__str__', '__subclasshook__', 'func_closure', 'func_code', 'func_defaults', 'func_dict', 'func_doc', 'func_globals', 'func_name']\n"
     ]
    }
   ],
   "source": [
    "print dir(a.x),dir(func)"
   ]
  },
  {
   "cell_type": "code",
   "execution_count": 37,
   "metadata": {
    "collapsed": false
   },
   "outputs": [
    {
     "ename": "AttributeError",
     "evalue": "'function' object has no attribute 'setter'",
     "output_type": "error",
     "traceback": [
      "\u001b[0;31m---------------------------------------------------------------------------\u001b[0m",
      "\u001b[0;31mAttributeError\u001b[0m                            Traceback (most recent call last)",
      "\u001b[0;32m<ipython-input-37-20937a5cc20a>\u001b[0m in \u001b[0;36m<module>\u001b[0;34m()\u001b[0m\n\u001b[1;32m      5\u001b[0m     \u001b[0;32mreturn\u001b[0m \u001b[0mself\u001b[0m\u001b[0;34m.\u001b[0m\u001b[0m_name\u001b[0m\u001b[0;34m\u001b[0m\u001b[0m\n\u001b[1;32m      6\u001b[0m \u001b[0;34m\u001b[0m\u001b[0m\n\u001b[0;32m----> 7\u001b[0;31m \u001b[0;34m@\u001b[0m\u001b[0mname\u001b[0m\u001b[0;34m.\u001b[0m\u001b[0msetter\u001b[0m\u001b[0;34m\u001b[0m\u001b[0m\n\u001b[0m\u001b[1;32m      8\u001b[0m \u001b[0;32mdef\u001b[0m \u001b[0mname\u001b[0m\u001b[0;34m(\u001b[0m\u001b[0mself\u001b[0m\u001b[0;34m,\u001b[0m \u001b[0mvalue\u001b[0m\u001b[0;34m)\u001b[0m\u001b[0;34m:\u001b[0m\u001b[0;34m\u001b[0m\u001b[0m\n\u001b[1;32m      9\u001b[0m     \u001b[0mself\u001b[0m\u001b[0;34m.\u001b[0m\u001b[0m_name\u001b[0m \u001b[0;34m=\u001b[0m \u001b[0mvalue\u001b[0m\u001b[0;34m\u001b[0m\u001b[0m\n",
      "\u001b[0;31mAttributeError\u001b[0m: 'function' object has no attribute 'setter'"
     ]
    }
   ],
   "source": [
    "@deprecated\n",
    "@property\n",
    "def name(self):\n",
    "    \"\"\"Get name\"\"\"\n",
    "    return self._name\n",
    "\n",
    "@name.setter \n",
    "def name(self, value):\n",
    "    self._name = value\n",
    "\n",
    "@name.deleter\n",
    "def name(self):\n",
    "    del self._name"
   ]
  }
 ],
 "metadata": {
  "kernelspec": {
   "display_name": "Python 2",
   "language": "python",
   "name": "python2"
  },
  "language_info": {
   "codemirror_mode": {
    "name": "ipython",
    "version": 2
   },
   "file_extension": ".py",
   "mimetype": "text/x-python",
   "name": "python",
   "nbconvert_exporter": "python",
   "pygments_lexer": "ipython2",
   "version": "2.7.12"
  }
 },
 "nbformat": 4,
 "nbformat_minor": 1
}
