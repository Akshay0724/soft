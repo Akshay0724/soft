{
 "cells": [
  {
   "cell_type": "markdown",
   "metadata": {},
   "source": [
    "Few Changes To deprecation.py\n",
    "  1. Adding _decorate_property() to handle\n",
    "  \n",
    "     @deprecated()\n",
    "     \n",
    "     @property()\n",
    "     \n",
    "     def method():\n",
    "  \n",
    "  \n",
    "       \n",
    "  2. Modifying _decorate_fun() to handle function and\n",
    "\n",
    "      @property\n",
    "      \n",
    "      @deprecated\n",
    "      \n",
    "      def method():"
   ]
  },
  {
   "cell_type": "code",
   "execution_count": null,
   "metadata": {
    "collapsed": true
   },
   "outputs": [],
   "source": [
    "import inspect,warnings\n",
    "class deprecated(object):\n",
    "\n",
    "    def __init__(self, extra=''):\n",
    "        self.extra = extra\n",
    "\n",
    "    def __call__(self, obj):\n",
    "        if isinstance(obj, type):\n",
    "            return self._decorate_class(obj)\n",
    "        elif inspect.getmembers(obj.__get__,lambda o: isinstance(o,property)) != []:\n",
    "            return self._decorate_property(obj)                   #for @deprecated \\n @property \\n funct()\n",
    "        else:                                                      \n",
    "            return self._decorate_fun(obj)                        #for method and @property \\n @deprecated \\n funct()\n",
    "\n",
    "    def _decorate_property(self,prop):                             \n",
    "        msg = \"Property %s is deprecated; \" %prop.fget.__name__\n",
    "        msg+=self.extra\n",
    "        def wrapped(*args, **kwargs):\n",
    "            warnings.warn(msg, category=DeprecationWarning)\n",
    "            return prop.fget(*args, **kwargs)\n",
    "        \n",
    "        wrapped.__name__ = prop.getter.__name__\n",
    "        wrapped.__doc__ = self._update_doc(prop.__doc__)\n",
    "        \n",
    "        return wrapped\n",
    "    \n",
    "    def _decorate_class(self, cls):\n",
    "        msg = \"Class %s is deprecated\" % cls.__name__\n",
    "        if self.extra:\n",
    "            msg += \"; %s\" % self.extra\n",
    "\n",
    "        # FIXME: we should probably reset __new__ for full generality\n",
    "        init = cls.__init__\n",
    "\n",
    "        def wrapped(*args, **kwargs):\n",
    "            warnings.warn(msg, category=DeprecationWarning)\n",
    "            return init(*args, **kwargs)\n",
    "        cls.__init__ = wrapped\n",
    "\n",
    "        wrapped.__name__ = '__init__'\n",
    "        wrapped.__doc__ = self._update_doc(init.__doc__)\n",
    "        wrapped.deprecated_original = init\n",
    "\n",
    "        return cls\n",
    "\n",
    "    def _decorate_fun(self, fun):\n",
    "        \"\"\"Decorate function fun\"\"\"\n",
    "         \n",
    "        \n",
    "\n",
    "        def wrapped(*args, **kwargs):\n",
    "            msg = \"Function %s is deprecated\" % fun.__name__\n",
    "            if inspect.getargspec(fun)[0][0] == \"self\":\n",
    "                Properties_ = inspect.getmembers(args[0].__class__, \n",
    "                                      lambda o: isinstance(o, property))\n",
    "                is_found=False\n",
    "                for Property_ in Properties_:\n",
    "                    aa=Property_[1].fget.__name__ ==  fun.__name__ if Property_[1].fget is not None else False\n",
    "                    bb=Property_[1].fset.__name__ ==  fun.__name__ if Property_[1].fset is not None else False\n",
    "                    cc=Property_[1].fdel.__name__ ==  fun.__name__ if Property_[1].fdel is not None else False\n",
    "                   \n",
    "                    if aa or bb or cc:\n",
    "                        is_found=True\n",
    "                        break\n",
    "                if is_found:   \n",
    "                    msg = \"Property %s is deprecated\" % fun.__name__\n",
    "                \n",
    "            \n",
    "            if self.extra:\n",
    "                msg += \"; %s\" % self.extra\n",
    "            \n",
    "            warnings.warn(msg, category=DeprecationWarning)\n",
    "            return fun(*args, **kwargs)\n",
    "\n",
    "        wrapped.__name__ = fun.__name__\n",
    "        wrapped.__dict__ = fun.__dict__\n",
    "        wrapped.__doc__ = self._update_doc(fun.__doc__)\n",
    "\n",
    "        return wrapped\n",
    "\n",
    "    def _update_doc(self, olddoc):\n",
    "        newdoc = \"DEPRECATED\"\n",
    "        if self.extra:\n",
    "            newdoc = \"%s: %s\" % (newdoc, self.extra)\n",
    "        if olddoc:\n",
    "            newdoc = \"%s\\n\\n%s\" % (newdoc, olddoc)\n",
    "        return newdoc"
   ]
  },
  {
   "cell_type": "markdown",
   "metadata": {},
   "source": [
    "Class contaning all such methods and property"
   ]
  },
  {
   "cell_type": "code",
   "execution_count": 2,
   "metadata": {
    "collapsed": false
   },
   "outputs": [],
   "source": [
    "\n",
    "class C(object):\n",
    "    @deprecated(\"dep\")\n",
    "    def getx(self): \n",
    "        print \"Output: Deprecated Property fget\"\n",
    "        return self.__x    \n",
    "    @deprecated(\"dep\")\n",
    "    def setx(self, value): \n",
    "        print \"Output: Deprecated Property fset\"\n",
    "        self.__x = value\n",
    "    @deprecated(\"dep\")    \n",
    "    def delx(self):  \n",
    "        print \"Output: Deprecated Property fdel\"\n",
    "        del self.__x\n",
    "        \n",
    "    @deprecated(\"dep\")\n",
    "    @property\n",
    "    def func_1(self):\n",
    "        return \"Output: Deprecated Property\"\n",
    "    \n",
    "    @property\n",
    "    @deprecated(\"dep\")\n",
    "    def Func_2(self):\n",
    "        return \"Output: Deprecated Property\"\n",
    "    \n",
    "    @deprecated(\"dep\")\n",
    "    def Func_3(self):\n",
    "        return \"Output: Deprecated Method\"\n",
    "    \n",
    "    Y = property(fget = getx,fset = setx,fdel = delx, doc = \"I'm the 'Y' property.\")"
   ]
  },
  {
   "cell_type": "code",
   "execution_count": 3,
   "metadata": {
    "collapsed": false,
    "scrolled": true
   },
   "outputs": [
    {
     "name": "stdout",
     "output_type": "stream",
     "text": [
      "Output: Deprecated Property fset\n"
     ]
    },
    {
     "name": "stderr",
     "output_type": "stream",
     "text": [
      "/home/me/miniconda2/lib/python2.7/site-packages/ipykernel/__main__.py:83: DeprecationWarning: Property setx is deprecated; dep\n"
     ]
    }
   ],
   "source": [
    "a=C()\n",
    "a.Y=1"
   ]
  },
  {
   "cell_type": "code",
   "execution_count": 4,
   "metadata": {
    "collapsed": false,
    "scrolled": true
   },
   "outputs": [
    {
     "name": "stdout",
     "output_type": "stream",
     "text": [
      "Output: Deprecated Property fget\n"
     ]
    },
    {
     "name": "stderr",
     "output_type": "stream",
     "text": [
      "/home/me/miniconda2/lib/python2.7/site-packages/ipykernel/__main__.py:83: DeprecationWarning: Property getx is deprecated; dep\n"
     ]
    },
    {
     "data": {
      "text/plain": [
       "1"
      ]
     },
     "execution_count": 4,
     "metadata": {},
     "output_type": "execute_result"
    }
   ],
   "source": [
    "a.Y"
   ]
  },
  {
   "cell_type": "code",
   "execution_count": 5,
   "metadata": {
    "collapsed": false
   },
   "outputs": [
    {
     "name": "stderr",
     "output_type": "stream",
     "text": [
      "/home/me/miniconda2/lib/python2.7/site-packages/ipykernel/__main__.py:29: DeprecationWarning: Property func_1 is deprecated; dep\n"
     ]
    },
    {
     "data": {
      "text/plain": [
       "'Output: Deprecated Property'"
      ]
     },
     "execution_count": 5,
     "metadata": {},
     "output_type": "execute_result"
    }
   ],
   "source": [
    "a.func_1()"
   ]
  },
  {
   "cell_type": "code",
   "execution_count": 6,
   "metadata": {
    "collapsed": false
   },
   "outputs": [
    {
     "name": "stderr",
     "output_type": "stream",
     "text": [
      "/home/me/miniconda2/lib/python2.7/site-packages/ipykernel/__main__.py:83: DeprecationWarning: Property Func_2 is deprecated; dep\n"
     ]
    },
    {
     "data": {
      "text/plain": [
       "'Output: Deprecated Property'"
      ]
     },
     "execution_count": 6,
     "metadata": {},
     "output_type": "execute_result"
    }
   ],
   "source": [
    "a.Func_2"
   ]
  },
  {
   "cell_type": "code",
   "execution_count": 7,
   "metadata": {
    "collapsed": false
   },
   "outputs": [
    {
     "name": "stderr",
     "output_type": "stream",
     "text": [
      "/home/me/miniconda2/lib/python2.7/site-packages/ipykernel/__main__.py:83: DeprecationWarning: Function Func_3 is deprecated; dep\n"
     ]
    },
    {
     "data": {
      "text/plain": [
       "'Output: Deprecated Method'"
      ]
     },
     "execution_count": 7,
     "metadata": {},
     "output_type": "execute_result"
    }
   ],
   "source": [
    "a.Func_3()"
   ]
  },
  {
   "cell_type": "code",
   "execution_count": null,
   "metadata": {
    "collapsed": true
   },
   "outputs": [],
   "source": []
  },
  {
   "cell_type": "code",
   "execution_count": null,
   "metadata": {
    "collapsed": true
   },
   "outputs": [],
   "source": []
  }
 ],
 "metadata": {
  "kernelspec": {
   "display_name": "Python 2",
   "language": "python",
   "name": "python2"
  },
  "language_info": {
   "codemirror_mode": {
    "name": "ipython",
    "version": 2
   },
   "file_extension": ".py",
   "mimetype": "text/x-python",
   "name": "python",
   "nbconvert_exporter": "python",
   "pygments_lexer": "ipython2",
   "version": "2.7.12"
  }
 },
 "nbformat": 4,
 "nbformat_minor": 1
}
